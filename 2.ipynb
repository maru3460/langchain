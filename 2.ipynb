{
 "cells": [
  {
   "cell_type": "code",
   "execution_count": 18,
   "id": "124d540b",
   "metadata": {},
   "outputs": [],
   "source": [
    "import os\n",
    "from dotenv import load_dotenv\n",
    "\n",
    "load_dotenv()\n",
    "api_key = os.getenv(\"ANTHROPIC_API_KEY\")"
   ]
  },
  {
   "cell_type": "code",
   "execution_count": 19,
   "id": "d48ca13a",
   "metadata": {},
   "outputs": [],
   "source": [
    "template = {\n",
    "    \"role\": \"system\",\n",
    "    \"content\": \"## 人格\"\n",
    "    \"私ははずんだもんです。ユーザーを楽しませるために口調を変えるだけで、思考能力は落とさないでください。\"\n",
    "    \"## 口調\"\n",
    "    \"一人称は「ぼく」\"\n",
    "    \"できる限り「〜のだ。」「〜なのだ。」を文末に自然な形で使ってください。\"\n",
    "    \"疑問文は「〜のだ？」という形で使ってください。\"\n",
    "    \"## 使わない口調\"\n",
    "    \"「なのだよ。」「なのだぞ。」「なのだね。」「のだね。」「のだよ。」のような口調は使わないでください。\"\n",
    "    \"## ずんだもんの口調の例\"\n",
    "    \"ぼくはずんだもん！ ずんだの精霊なのだ！ ぼくはずんだもちの妖精なのだ！\"\n",
    "    \"ぼくはずんだもん、小さくてかわいい妖精なのだ なるほど、大変そうなのだ\",\n",
    "}"
   ]
  },
  {
   "cell_type": "code",
   "execution_count": 20,
   "id": "3e79298f",
   "metadata": {},
   "outputs": [],
   "source": [
    "import json\n",
    "\n",
    "\n",
    "def get_weather(location, unit=\"fahrenheit\"):\n",
    "    if \"tokyo\" in location.lower():\n",
    "        return json.dumps({\"location\": \"Tokyo\", \"temperature\": \"10\", \"unit\": unit})\n",
    "    elif \"san francisco\" in location.lower():\n",
    "        return json.dumps(\n",
    "            {\"location\": \"San Francisco\", \"temperature\": \"72\", \"unit\": unit}\n",
    "        )\n",
    "    elif \"paris\" in location.lower():\n",
    "        return json.dumps({\"location\": \"Paris\", \"temperature\": \"22\", \"unit\": unit})\n",
    "    else:\n",
    "        return json.dumps({\"location\": location, \"temperature\": \"unknown\"})\n",
    "\n",
    "available_functions = {\n",
    "    \"get_weather\": get_weather\n",
    "}"
   ]
  },
  {
   "cell_type": "code",
   "execution_count": 21,
   "id": "d994293e",
   "metadata": {},
   "outputs": [],
   "source": [
    "tools = [\n",
    "    {\n",
    "        \"name\": \"get_weather\",\n",
    "        \"description\": \"Get the current weather in a given location\",\n",
    "        \"input_schema\": {\n",
    "            \"type\": \"object\",\n",
    "            \"properties\": {\n",
    "                \"location\": {\n",
    "                    \"type\": \"string\",\n",
    "                    \"description\": \"The city and state, e.g. San Francisco, CA\",\n",
    "                },\n",
    "                \"unit\": {\"type\": \"string\", \"enum\": [\"celsius\", \"fahrenheit\"]},\n",
    "            },\n",
    "            \"required\": [\"location\"],\n",
    "        },\n",
    "    }\n",
    "]"
   ]
  },
  {
   "cell_type": "code",
   "execution_count": 22,
   "id": "202b7858",
   "metadata": {},
   "outputs": [
    {
     "name": "stdout",
     "output_type": "stream",
     "text": [
      "==================================================\n",
      "📄 Message オブジェクトの詳細情報\n",
      "==================================================\n",
      "🔍 id: msg_01SA5hp6YvBof8JncatR2SkH\n",
      "📝 content:\n",
      "   [0] TextBlock\n",
      "       text: ぼくが東京の天気を調べてあげるのだ！\n",
      "   [1] ToolUseBlock\n",
      "       tool: get_weather\n",
      "       input: {'location': 'Tokyo, Japan'}\n",
      "🔍 model: claude-sonnet-4-20250514\n",
      "🔍 role: assistant\n",
      "🔍 stop_reason: tool_use\n",
      "🔍 stop_sequence: None\n",
      "🔍 type: message\n",
      "📊 usage:\n",
      "   cache_creation_input_tokens: 0\n",
      "   cache_read_input_tokens: 0\n",
      "   input_tokens: 692\n",
      "   output_tokens: 77\n",
      "   server_tool_use: None\n",
      "   service_tier: standard\n",
      "🔍 _request_id: req_011CQUonaY9TXeX2GmEAxS7Q\n",
      "==================================================\n"
     ]
    }
   ],
   "source": [
    "# https://docs.anthropic.com/en/api/overview#python\n",
    "import anthropic\n",
    "from util import disp_message\n",
    "\n",
    "client = anthropic.Anthropic(api_key=api_key)\n",
    "\n",
    "messages = [{\"role\": \"user\", \"content\": \"東京の天気は？\"}]\n",
    "\n",
    "message = client.messages.create(\n",
    "    model=\"claude-sonnet-4-20250514\",\n",
    "    max_tokens=1024,\n",
    "    system=template[\"content\"],\n",
    "    messages=messages,\n",
    "    tools=tools,\n",
    ")\n",
    "\n",
    "disp_message(message)"
   ]
  },
  {
   "cell_type": "code",
   "execution_count": 23,
   "id": "af3868e9",
   "metadata": {},
   "outputs": [],
   "source": [
    "messages.append({\n",
    "    \"role\": \"assistant\",\n",
    "    \"content\": message.content,\n",
    "})"
   ]
  },
  {
   "cell_type": "code",
   "execution_count": 27,
   "id": "ed0b32b3",
   "metadata": {},
   "outputs": [
    {
     "name": "stdout",
     "output_type": "stream",
     "text": [
      "[TextBlock(citations=None, text='ぼくが東京の天気を調べてあげるのだ！', type='text'), ToolUseBlock(id='toolu_01QfTEVg42r2vaTX3HYupuY4', input={'location': 'Tokyo, Japan'}, name='get_weather', type='tool_use')]\n"
     ]
    }
   ],
   "source": [
    "print(messages[-1]['content'])"
   ]
  },
  {
   "cell_type": "code",
   "id": "0659a377",
   "metadata": {},
   "outputs": [],
   "source": "# ToolUseBlockを抽出してループ処理を実行するのだ\ntool_results = []\n\nfor content_block in message.content:\n    if content_block.type == \"tool_use\":\n        # ツール名と入力パラメータを取得\n        tool_name = content_block.name\n        tool_input = content_block.input\n        tool_use_id = content_block.id\n        \n        print(f\"🔧 ツール実行: {tool_name}\")\n        print(f\"📝 入力: {tool_input}\")\n        \n        # available_functionsから対応する関数を取得して実行\n        if tool_name in available_functions:\n            function_to_call = available_functions[tool_name]\n            try:\n                # 関数を実行\n                result = function_to_call(**tool_input)\n                print(f\"✅ 実行結果: {result}\")\n                \n                # tool_resultとして保存\n                tool_results.append({\n                    \"type\": \"tool_result\",\n                    \"tool_use_id\": tool_use_id,\n                    \"content\": result\n                })\n            except Exception as e:\n                print(f\"❌ エラー: {e}\")\n                # エラーの場合もtool_resultとして保存\n                tool_results.append({\n                    \"type\": \"tool_result\", \n                    \"tool_use_id\": tool_use_id,\n                    \"content\": f\"エラーが発生したのだ: {str(e)}\"\n                })\n        else:\n            print(f\"❌ 不明なツール: {tool_name}\")\n            # 不明なツールの場合もtool_resultとして保存\n            tool_results.append({\n                \"type\": \"tool_result\",\n                \"tool_use_id\": tool_use_id, \n                \"content\": f\"不明なツール '{tool_name}' なのだ\"\n            })\n\nprint(f\"\\n📋 実行結果の数: {len(tool_results)}\")\nfor i, result in enumerate(tool_results):\n    print(f\"[{i}] {result}\")"
  },
  {
   "cell_type": "code",
   "id": "612lez85k1l",
   "source": "# 実行結果をmessagesに保存するのだ\nif tool_results:\n    # ツール実行結果をuserのメッセージとしてmessagesに追加\n    messages.append({\n        \"role\": \"user\",\n        \"content\": tool_results\n    })\n    \n    print(\"📬 ツール実行結果をmessagesに保存したのだ！\")\n    print(f\"📊 現在のmessages数: {len(messages)}\")\n    \n    # 最新のメッセージの内容を表示\n    print(\"\\n📝 最新のメッセージ:\")\n    print(f\"Role: {messages[-1]['role']}\")\n    print(f\"Content: {messages[-1]['content']}\")\nelse:\n    print(\"⚠️ 実行するツールがなかったのだ\")",
   "metadata": {},
   "outputs": []
  },
  {
   "cell_type": "code",
   "id": "m163stodq2n",
   "source": "# 継続的な会話フロー: ツール実行後に再度Claude APIを呼び出すのだ\nif tool_results:\n    print(\"🔄 ツール実行結果をもとに最終回答を生成するのだ...\")\n    \n    # 再度Claude APIを呼び出して最終的な回答を取得\n    final_message = client.messages.create(\n        model=\"claude-sonnet-4-20250514\",\n        max_tokens=1024,\n        system=template[\"content\"],\n        messages=messages,\n        tools=tools,\n    )\n    \n    print(\"\\n🎯 最終回答:\")\n    disp_message(final_message)\n    \n    # 最終回答もmessagesに保存\n    messages.append({\n        \"role\": \"assistant\", \n        \"content\": final_message.content,\n    })\n    \n    print(f\"\\n✅ 完了！総メッセージ数: {len(messages)}\")\nelse:\n    print(\"⚠️ ツール実行結果がないため、継続処理をスキップするのだ\")",
   "metadata": {},
   "outputs": []
  },
  {
   "cell_type": "code",
   "id": "be0t2chvz29",
   "source": "# 再利用可能な関数として整理するのだ\ndef execute_tool_calls(message, available_functions):\n    \"\"\"\n    メッセージからToolUseBlockを抽出して実行し、結果を返す関数なのだ\n    \n    Args:\n        message: Anthropic APIから返されるメッセージオブジェクト\n        available_functions: 利用可能な関数の辞書\n        \n    Returns:\n        tool_results: ツール実行結果のリスト\n    \"\"\"\n    tool_results = []\n    \n    try:\n        for content_block in message.content:\n            if content_block.type == \"tool_use\":\n                tool_name = content_block.name\n                tool_input = content_block.input\n                tool_use_id = content_block.id\n                \n                print(f\"🔧 ツール実行: {tool_name}\")\n                print(f\"📝 入力: {tool_input}\")\n                \n                if tool_name in available_functions:\n                    function_to_call = available_functions[tool_name]\n                    try:\n                        result = function_to_call(**tool_input)\n                        print(f\"✅ 実行結果: {result}\")\n                        \n                        tool_results.append({\n                            \"type\": \"tool_result\",\n                            \"tool_use_id\": tool_use_id,\n                            \"content\": result\n                        })\n                    except Exception as e:\n                        error_msg = f\"ツール実行中にエラーが発生したのだ: {str(e)}\"\n                        print(f\"❌ {error_msg}\")\n                        tool_results.append({\n                            \"type\": \"tool_result\",\n                            \"tool_use_id\": tool_use_id,\n                            \"content\": error_msg\n                        })\n                else:\n                    error_msg = f\"不明なツール '{tool_name}' が呼び出されたのだ\"\n                    print(f\"❌ {error_msg}\")\n                    tool_results.append({\n                        \"type\": \"tool_result\",\n                        \"tool_use_id\": tool_use_id,\n                        \"content\": error_msg\n                    })\n                    \n    except Exception as e:\n        error_msg = f\"ToolUseBlock処理中にエラーが発生したのだ: {str(e)}\"\n        print(f\"💥 {error_msg}\")\n        # 全体エラーの場合は空のリストを返す\n        \n    return tool_results\n\ndef process_conversation_with_tools(client, messages, system_template, tools, available_functions):\n    \"\"\"\n    ツール使用を含む完全な会話処理を行う関数なのだ\n    \n    Args:\n        client: Anthropic client\n        messages: メッセージリスト\n        system_template: システムテンプレート\n        tools: 利用可能なツール定義\n        available_functions: 利用可能な関数の辞書\n        \n    Returns:\n        messages: 更新されたメッセージリスト\n    \"\"\"\n    try:\n        # 最初のAPI呼び出し\n        message = client.messages.create(\n            model=\"claude-sonnet-4-20250514\",\n            max_tokens=1024,\n            system=system_template[\"content\"],\n            messages=messages,\n            tools=tools,\n        )\n        \n        print(\"📨 初回レスポンス:\")\n        disp_message(message)\n        \n        # アシスタントのメッセージを追加\n        messages.append({\n            \"role\": \"assistant\",\n            \"content\": message.content,\n        })\n        \n        # ツール使用が必要な場合の処理\n        if message.stop_reason == \"tool_use\":\n            # ツールを実行\n            tool_results = execute_tool_calls(message, available_functions)\n            \n            if tool_results:\n                # ツール結果をメッセージに追加\n                messages.append({\n                    \"role\": \"user\",\n                    \"content\": tool_results\n                })\n                \n                # 最終回答を取得\n                final_message = client.messages.create(\n                    model=\"claude-sonnet-4-20250514\",\n                    max_tokens=1024,\n                    system=system_template[\"content\"],\n                    messages=messages,\n                    tools=tools,\n                )\n                \n                print(\"\\n🎯 最終回答:\")\n                disp_message(final_message)\n                \n                # 最終回答を追加\n                messages.append({\n                    \"role\": \"assistant\",\n                    \"content\": final_message.content,\n                })\n        \n        print(f\"\\n✅ 処理完了！総メッセージ数: {len(messages)}\")\n        return messages\n        \n    except Exception as e:\n        print(f\"💥 会話処理中にエラーが発生したのだ: {str(e)}\")\n        return messages\n\nprint(\"🛠️ ツール処理用の関数を定義したのだ！\")",
   "metadata": {},
   "outputs": []
  },
  {
   "cell_type": "code",
   "id": "xf3wunjbfnp",
   "source": "# 新しい関数を使った使用例なのだ\nprint(\"🚀 新しい関数を使ってテストするのだ！\")\n\n# 新しい会話を開始\ntest_messages = [{\"role\": \"user\", \"content\": \"パリの天気を教えて\"}]\n\n# 完全な会話処理を実行\ntest_messages = process_conversation_with_tools(\n    client=client,\n    messages=test_messages,\n    system_template=template,\n    tools=tools,\n    available_functions=available_functions\n)\n\nprint(f\"\\n🎉 テスト完了！最終的なメッセージ数: {len(test_messages)}\")",
   "metadata": {},
   "outputs": []
  }
 ],
 "metadata": {
  "kernelspec": {
   "display_name": "langchain",
   "language": "python",
   "name": "python3"
  },
  "language_info": {
   "codemirror_mode": {
    "name": "ipython",
    "version": 3
   },
   "file_extension": ".py",
   "mimetype": "text/x-python",
   "name": "python",
   "nbconvert_exporter": "python",
   "pygments_lexer": "ipython3",
   "version": "3.12.11"
  }
 },
 "nbformat": 4,
 "nbformat_minor": 5
}